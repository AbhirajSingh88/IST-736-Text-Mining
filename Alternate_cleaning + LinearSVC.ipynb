{
  "nbformat": 4,
  "nbformat_minor": 0,
  "metadata": {
    "kernelspec": {
      "display_name": "Python 3",
      "language": "python",
      "name": "python3"
    },
    "language_info": {
      "codemirror_mode": {
        "name": "ipython",
        "version": 3
      },
      "file_extension": ".py",
      "mimetype": "text/x-python",
      "name": "python",
      "nbconvert_exporter": "python",
      "pygments_lexer": "ipython3",
      "version": "3.7.4"
    },
    "colab": {
      "name": "Alternate_cleaning.ipynb",
      "provenance": []
    },
    "accelerator": "TPU"
  },
  "cells": [
    {
      "cell_type": "code",
      "metadata": {
        "id": "gksVFZC_gpnD",
        "colab_type": "code",
        "outputId": "39aa904b-cf93-489c-8b69-5c5a519afa4a",
        "colab": {
          "base_uri": "https://localhost:8080/",
          "height": 52
        }
      },
      "source": [
        "cd \"E:\\Text Mining\\PROJECT\""
      ],
      "execution_count": 0,
      "outputs": [
        {
          "output_type": "stream",
          "text": [
            "[Errno 2] No such file or directory: 'E:\\\\Text Mining\\\\PROJECT'\n",
            "/content\n"
          ],
          "name": "stdout"
        }
      ]
    },
    {
      "cell_type": "code",
      "metadata": {
        "id": "WiF_PNlXgpnX",
        "colab_type": "code",
        "colab": {}
      },
      "source": [
        "import pandas as p\n",
        "import numpy as np\n",
        "import itertools\n",
        "from bs4 import BeautifulSoup\n",
        "from nltk.tokenize import WordPunctTokenizer\n",
        "import re"
      ],
      "execution_count": 0,
      "outputs": []
    },
    {
      "cell_type": "code",
      "metadata": {
        "id": "UsB2bWbxgpnf",
        "colab_type": "code",
        "colab": {}
      },
      "source": [
        "def getCleanTweet(text):\n",
        "    tok = WordPunctTokenizer()\n",
        "    user_pattern = '@[A-Za-z0-9_]+'\n",
        "    http_pattern = 'https?://[^ ]+'\n",
        "    www_pattern = 'www.[^ ]+'\n",
        "    combined_pattern = '|'.join((user_pattern, http_pattern, www_pattern))\n",
        "    negations_dic = {\"isn't\":\"is not\", \"aren't\":\"are not\", \"wasn't\":\"was not\", \"weren't\":\"were not\",\n",
        "                    \"haven't\":\"have not\",\"hasn't\":\"has not\",\"hadn't\":\"had not\",\"won't\":\"will not\",\n",
        "                    \"wouldn't\":\"would not\", \"don't\":\"do not\", \"doesn't\":\"does not\",\"didn't\":\"did not\",\n",
        "                    \"can't\":\"can not\",\"couldn't\":\"could not\",\"shouldn't\":\"should not\",\"mightn't\":\"might not\",\n",
        "                    \"mustn't\":\"must not\"}\n",
        "    neg_pattern = re.compile('\\b(' + '|'.join(negations_dic.keys()) + ')\\b')\n",
        "    soup = BeautifulSoup(text, 'lxml')\n",
        "    souped = soup.get_text()\n",
        "    try:\n",
        "        bom_removed = souped.decode(\"utf-8-sig\").replace(u\"\\ufffd\", \"?\")\n",
        "    except:\n",
        "        bom_removed = souped\n",
        "    stripped = re.sub(combined_pattern, '', bom_removed)\n",
        "    neg_handled = neg_pattern.sub(lambda x: negations_dic[x.group()], stripped)\n",
        "    letters_only = re.sub(\"[^a-zA-Z]\", \" \", neg_handled).lower()\n",
        "    cleaned = (\" \".join(x for x in tok.tokenize(letters_only) if len(x) > 1)).strip()\n",
        "    cleaned = ''.join(k + k if sum(1 for i in g) > 1 else k for k, g in itertools.groupby(cleaned))\n",
        "    return cleaned"
      ],
      "execution_count": 0,
      "outputs": []
    },
    {
      "cell_type": "code",
      "metadata": {
        "id": "0cjPtRFKgpnn",
        "colab_type": "code",
        "outputId": "987f1738-5991-404a-cf10-87149a0b5642",
        "colab": {
          "base_uri": "https://localhost:8080/",
          "height": 266
        }
      },
      "source": [
        "data = p.read_csv(\"tweet.csv\", encoding=\"latin-1\", names=[\"target\", \"ids\", \"date\", \"flag\", \"user\", \"text\"])\n",
        "data['clean_text'] = [getCleanTweet(text) for text in data['text']]\n",
        "data.dropna(inplace=True)\n",
        "data.reset_index(drop=True,inplace=True)\n",
        "data.info()"
      ],
      "execution_count": 3,
      "outputs": [
        {
          "output_type": "stream",
          "text": [
            "<class 'pandas.core.frame.DataFrame'>\n",
            "RangeIndex: 1600000 entries, 0 to 1599999\n",
            "Data columns (total 7 columns):\n",
            " #   Column      Non-Null Count    Dtype \n",
            "---  ------      --------------    ----- \n",
            " 0   target      1600000 non-null  int64 \n",
            " 1   ids         1600000 non-null  int64 \n",
            " 2   date        1600000 non-null  object\n",
            " 3   flag        1600000 non-null  object\n",
            " 4   user        1600000 non-null  object\n",
            " 5   text        1600000 non-null  object\n",
            " 6   clean_text  1600000 non-null  object\n",
            "dtypes: int64(2), object(5)\n",
            "memory usage: 85.4+ MB\n"
          ],
          "name": "stdout"
        }
      ]
    },
    {
      "cell_type": "code",
      "metadata": {
        "id": "W993atcZgpnv",
        "colab_type": "code",
        "colab": {}
      },
      "source": [
        "x_values = data['clean_text'].values\n",
        "y_values = data['target'].values\n",
        "from sklearn.model_selection import train_test_split\n",
        "x_train,x_test,y_train,y_test = train_test_split(x_values, y_values, test_size=0.01, random_state=0)\n",
        "\n",
        "# Create 4 models - \n",
        "# tf unigram,  \n",
        "# tf idf unigram, \n",
        "# tf unigram+bigram, \n",
        "# tf idf unigram+bigram\n",
        "from sklearn.feature_extraction.text import CountVectorizer\n",
        "from sklearn.feature_extraction.text import TfidfVectorizer\n",
        "\n",
        "tf_unigram = CountVectorizer(encoding='latin-1',binary=True,min_df = 5 )\n",
        "tf_idf_unigram = TfidfVectorizer(encoding='latin-1',use_idf=True,min_df = 5)\n",
        "tf_uni_bi = CountVectorizer(encoding='latin-1',binary=False, ngram_range=(1,2),min_df = 5)\n",
        "tf_idf_uni_bi = TfidfVectorizer(encoding='latin-1',use_idf=True, ngram_range=(1,2),min_df = 5)\n",
        "tf_idf_bi = TfidfVectorizer(encoding='latin-1',use_idf=True, ngram_range=(2,2),min_df = 5)"
      ],
      "execution_count": 0,
      "outputs": []
    },
    {
      "cell_type": "code",
      "metadata": {
        "id": "4B8Z63Ftgpn0",
        "colab_type": "code",
        "outputId": "a203fd7e-7cb5-44b7-e59e-4385c04dee5a",
        "colab": {
          "base_uri": "https://localhost:8080/",
          "height": 52
        }
      },
      "source": [
        "from sklearn.feature_extraction.text import CountVectorizer\n",
        "vector = CountVectorizer(encoding='latin-1',binary=False,min_df = 5 ,stop_words='english')\n",
        "bi_vector = CountVectorizer(encoding='latin-1',stop_words='english',binary=False, ngram_range=(1,2),min_df = 5)\n",
        "\n",
        "x_train_vec = vector.fit_transform(x_train)\n",
        "print(x_train_vec.shape)\n",
        "\n",
        "x_test_vec = vector.transform(x_test)\n",
        "print(x_test_vec.shape)\n"
      ],
      "execution_count": 0,
      "outputs": [
        {
          "output_type": "stream",
          "text": [
            "(1120000, 40537)\n",
            "(480000, 40537)\n"
          ],
          "name": "stdout"
        }
      ]
    },
    {
      "cell_type": "code",
      "metadata": {
        "id": "5X6xMCIHgpn8",
        "colab_type": "code",
        "outputId": "45e989e2-fce0-4d83-c494-2b2a4eccc1a2",
        "colab": {
          "base_uri": "https://localhost:8080/",
          "height": 89
        }
      },
      "source": [
        "from sklearn.svm import LinearSVC as svm\n",
        "svm = svm(C=1, max_iter=1000)\n",
        "svm.fit(x_train_vec,y_train)\n",
        "svm.score(x_test_vec, y_test)"
      ],
      "execution_count": 0,
      "outputs": [
        {
          "output_type": "stream",
          "text": [
            "/usr/local/lib/python3.6/dist-packages/sklearn/svm/_base.py:947: ConvergenceWarning: Liblinear failed to converge, increase the number of iterations.\n",
            "  \"the number of iterations.\", ConvergenceWarning)\n"
          ],
          "name": "stderr"
        },
        {
          "output_type": "execute_result",
          "data": {
            "text/plain": [
              "0.7727020833333333"
            ]
          },
          "metadata": {
            "tags": []
          },
          "execution_count": 10
        }
      ]
    },
    {
      "cell_type": "code",
      "metadata": {
        "id": "XRSVraArgpoI",
        "colab_type": "code",
        "colab": {}
      },
      "source": [
        "from sklearn.svm import LinearSVC as svm"
      ],
      "execution_count": 0,
      "outputs": []
    },
    {
      "cell_type": "code",
      "metadata": {
        "id": "56G3LDtdgpoX",
        "colab_type": "code",
        "outputId": "ff09bb85-a881-4c5d-ad64-fb90dd9b431b",
        "colab": {
          "base_uri": "https://localhost:8080/",
          "height": 70
        }
      },
      "source": [
        "#TF unigram\n",
        "\n",
        "x_train_vec_tf = tf_unigram.fit_transform(x_train)\n",
        "print(x_train_vec_tf.shape)\n",
        "\n",
        "x_test_vec_tf = tf_unigram.transform(x_test)\n",
        "print(x_test_vec_tf.shape)\n",
        "\n",
        "svm = svm(C=1, max_iter=1000)\n",
        "svm.fit(x_train_vec_tf,y_train)\n",
        "svm.score(x_test_vec_tf, y_test)"
      ],
      "execution_count": 9,
      "outputs": [
        {
          "output_type": "stream",
          "text": [
            "(1584000, 49537)\n",
            "(16000, 49537)\n"
          ],
          "name": "stdout"
        },
        {
          "output_type": "execute_result",
          "data": {
            "text/plain": [
              "0.7991875"
            ]
          },
          "metadata": {
            "tags": []
          },
          "execution_count": 9
        }
      ]
    },
    {
      "cell_type": "code",
      "metadata": {
        "id": "DSVWQ-VBgpog",
        "colab_type": "code",
        "outputId": "fa5539df-01ba-46d4-b037-20d5e1d8f459",
        "colab": {
          "base_uri": "https://localhost:8080/",
          "height": 69
        }
      },
      "source": [
        "# tf idf unigram\n",
        "from sklearn.svm import LinearSVC as svm\n",
        "x_train_vec_idf = tf_idf_unigram.fit_transform(x_train)\n",
        "print(x_train_vec_idf.shape)\n",
        "\n",
        "x_test_vec_idf = tf_idf_unigram.transform(x_test)\n",
        "print(x_test_vec_idf.shape)\n",
        "\n",
        "svm = svm(C=1, max_iter=1000)\n",
        "svm.fit(x_train_vec_idf,y_train)\n",
        "svm.score(x_test_vec_idf, y_test)"
      ],
      "execution_count": 0,
      "outputs": [
        {
          "output_type": "stream",
          "text": [
            "(1120000, 40537)\n",
            "(480000, 40537)\n"
          ],
          "name": "stdout"
        },
        {
          "output_type": "execute_result",
          "data": {
            "text/plain": [
              "0.7736270833333333"
            ]
          },
          "metadata": {
            "tags": []
          },
          "execution_count": 14
        }
      ]
    },
    {
      "cell_type": "code",
      "metadata": {
        "id": "FsUFm5sGgpop",
        "colab_type": "code",
        "outputId": "0a405eff-4dc6-498c-c44c-2ce73f5a7183",
        "colab": {
          "base_uri": "https://localhost:8080/",
          "height": 69
        }
      },
      "source": [
        "# tf unigram_bi\n",
        "from sklearn.svm import LinearSVC as svm\n",
        "x_train_vec_tf_uni_bi= tf_uni_bi.fit_transform(x_train)\n",
        "print(x_train_vec_tf_uni_bi.shape)\n",
        "\n",
        "x_test_vec_tf_uni_bi = tf_uni_bi.transform(x_test)\n",
        "print(x_test_vec_tf_uni_bi.shape)\n",
        "\n",
        "svm = svm(C=1, max_iter=1000)\n",
        "svm.fit(x_train_vec_tf_uni_bi,y_train)\n",
        "svm.score(x_test_vec_tf_uni_bi, y_test)\n",
        "    "
      ],
      "execution_count": 0,
      "outputs": [
        {
          "output_type": "stream",
          "text": [
            "(1120000, 185066)\n",
            "(480000, 185066)\n"
          ],
          "name": "stdout"
        },
        {
          "output_type": "execute_result",
          "data": {
            "text/plain": [
              "0.7677833333333334"
            ]
          },
          "metadata": {
            "tags": []
          },
          "execution_count": 15
        }
      ]
    },
    {
      "cell_type": "code",
      "metadata": {
        "id": "tXN-oP7kgpoz",
        "colab_type": "code",
        "outputId": "e2eb14f2-0b2a-4058-bf4d-78e8af8db711",
        "colab": {
          "base_uri": "https://localhost:8080/",
          "height": 124
        }
      },
      "source": [
        "# tf unigram_bi\n",
        "from sklearn.svm import LinearSVC as svm\n",
        "x_train_vec_idf_uni_bi= tf_idf_uni_bi.fit_transform(x_train)\n",
        "print(x_train_vec_idf_uni_bi.shape)\n",
        "\n",
        "x_test_vec_idf_uni_bi = tf_idf_uni_bi.transform(x_test)\n",
        "print(x_test_vec_idf_uni_bi.shape)\n",
        "\n",
        "svm = svm(C=1, max_iter=1000)\n",
        "svm.fit(x_train_vec_idf_uni_bi,y_train)\n",
        "svm.score(x_test_vec_idf_uni_bi, y_test) "
      ],
      "execution_count": 0,
      "outputs": [
        {
          "output_type": "stream",
          "text": [
            "(1120000, 185066)\n",
            "(480000, 185066)\n"
          ],
          "name": "stdout"
        },
        {
          "output_type": "stream",
          "text": [
            "/usr/local/lib/python3.6/dist-packages/sklearn/svm/_base.py:947: ConvergenceWarning: Liblinear failed to converge, increase the number of iterations.\n",
            "  \"the number of iterations.\", ConvergenceWarning)\n"
          ],
          "name": "stderr"
        },
        {
          "output_type": "execute_result",
          "data": {
            "text/plain": [
              "0.7675333333333333"
            ]
          },
          "metadata": {
            "tags": []
          },
          "execution_count": 16
        }
      ]
    },
    {
      "cell_type": "code",
      "metadata": {
        "id": "cKtngVLdgpo7",
        "colab_type": "code",
        "outputId": "19f65792-f3fd-4e75-cd02-95f02fde0645",
        "colab": {
          "base_uri": "https://localhost:8080/",
          "height": 280
        }
      },
      "source": [
        "#TF unigram\n",
        "from sklearn.svm import LinearSVC as svm\n",
        "x_train_vec_tf = tf_unigram.fit_transform(x_train)\n",
        "print(x_train_vec.shape)\n",
        "\n",
        "x_test_vec_tf = tf_unigram.transform(x_test)\n",
        "print(x_test_vec.shape)\n",
        "\n",
        "svm = svm(C=1, max_iter=1000)\n",
        "svm.fit(x_train_vec_tf,y_train)\n",
        "print(svm.score(x_test_vec_tf, y_test))\n",
        "\n",
        "# tf idf unigram\n",
        "from sklearn.svm import LinearSVC as svm\n",
        "x_train_vec_idf = tf_idf_unigram.fit_transform(x_train)\n",
        "print(x_train_vec_idf.shape)\n",
        "\n",
        "x_test_vec_idf = tf_idf_unigram.transform(x_test)\n",
        "print(x_test_vec_idf.shape)\n",
        "\n",
        "svm = svm(C=1, max_iter=1000)\n",
        "svm.fit(x_train_vec_idf,y_train)\n",
        "print(svm.score(x_test_vec_idf, y_test))\n",
        "\n",
        "# tf unigram_bi\n",
        "from sklearn.svm import LinearSVC as svm\n",
        "x_train_vec_tf_uni_bi= tf_uni_bi.fit_transform(x_train)\n",
        "print(x_train_vec_tf_uni_bi.shape)\n",
        "\n",
        "x_test_vec_tf_uni_bi = tf_uni_bi.transform(x_test)\n",
        "print(x_test_vec_tf_uni_bi.shape)\n",
        "\n",
        "svm = svm(C=1, max_iter=1000)\n",
        "svm.fit(x_train_vec_tf_uni_bi,y_train)\n",
        "print(svm.score(x_test_vec_tf_uni_bi, y_test))\n",
        "\n",
        "# tf unigram_bi\n",
        "from sklearn.svm import LinearSVC as svm\n",
        "x_train_vec_idf_uni_bi= tf_idf_uni_bi.fit_transform(x_train)\n",
        "print(x_train_vec_idf_uni_bi.shape)\n",
        "\n",
        "x_test_vec_idf_uni_bi = tf_idf_uni_bi.transform(x_test)\n",
        "print(x_test_vec_idf_uni_bi.shape)\n",
        "\n",
        "svm = svm(C=1, max_iter=1000)\n",
        "svm.fit(x_train_vec_idf_uni_bi,y_train)\n",
        "print(svm.score(x_test_vec_idf_uni_bi, y_test))\n",
        "    "
      ],
      "execution_count": 0,
      "outputs": [
        {
          "output_type": "stream",
          "text": [
            "(1120000, 40537)\n",
            "(480000, 40537)\n",
            "0.79404375\n",
            "(1120000, 40840)\n",
            "(480000, 40840)\n",
            "0.79404375\n",
            "(1120000, 274975)\n",
            "(480000, 274975)\n"
          ],
          "name": "stdout"
        },
        {
          "output_type": "stream",
          "text": [
            "/usr/local/lib/python3.6/dist-packages/sklearn/svm/_base.py:947: ConvergenceWarning: Liblinear failed to converge, increase the number of iterations.\n",
            "  \"the number of iterations.\", ConvergenceWarning)\n"
          ],
          "name": "stderr"
        },
        {
          "output_type": "stream",
          "text": [
            "0.7903125\n",
            "(1120000, 274975)\n",
            "(480000, 274975)\n",
            "0.79016875\n"
          ],
          "name": "stdout"
        }
      ]
    },
    {
      "cell_type": "code",
      "metadata": {
        "id": "NATQhbHCKfvp",
        "colab_type": "code",
        "colab": {
          "base_uri": "https://localhost:8080/",
          "height": 126
        },
        "outputId": "9b44db54-ecd1-411a-f4b1-7734186aa655"
      },
      "source": [
        "#tf_unigram\n",
        "from sklearn.pipeline import Pipeline\n",
        "from sklearn.svm import LinearSVC\n",
        "from sklearn.model_selection import GridSearchCV\n",
        "import numpy as np\n",
        "SVCpipe = Pipeline([('SVC',LinearSVC())])\n",
        "\n",
        "from sklearn.svm import LinearSVC as svm\n",
        "x_train_vec_tf = tf_unigram.fit_transform(x_train)\n",
        "x_test_vec_tf = tf_unigram.transform(x_test)\n",
        "\n",
        "# Gridsearch to determine the value of C\n",
        "param_grid = {'SVC__C':(0.85,1,10)}\n",
        "linearSVC = GridSearchCV(SVCpipe,param_grid,cv=3,return_train_score=True)\n",
        "linearSVC.fit(x_train_vec_tf,y_train)\n",
        "print(linearSVC.best_params_)\n",
        "#linearSVC.coef_\n",
        "#linearSVC.intercept_\n",
        "\n",
        "bestlinearSVC = linearSVC.best_estimator_\n",
        "bestlinearSVC.fit(x_train_vec_tf,y_train)\n",
        "bestlinearSVC.coef_ = bestlinearSVC.named_steps['SVC'].coef_\n",
        "\n",
        "print(bestlinearSVC.score(x_train_vec_tf,y_train))\n",
        "print(bestlinearSVC.score(x_test_vec_tf,y_test))\n"
      ],
      "execution_count": 14,
      "outputs": [
        {
          "output_type": "stream",
          "text": [
            "/usr/local/lib/python3.6/dist-packages/sklearn/svm/_base.py:947: ConvergenceWarning: Liblinear failed to converge, increase the number of iterations.\n",
            "  \"the number of iterations.\", ConvergenceWarning)\n"
          ],
          "name": "stderr"
        },
        {
          "output_type": "stream",
          "text": [
            "{'SVC__C': 0.85}\n",
            "0.812060606060606\n",
            "0.7993125\n"
          ],
          "name": "stdout"
        }
      ]
    },
    {
      "cell_type": "code",
      "metadata": {
        "id": "VSlTVyG7gppB",
        "colab_type": "code",
        "colab": {
          "base_uri": "https://localhost:8080/",
          "height": 70
        },
        "outputId": "0b0da028-cc7b-4921-9bad-f1e95a387ebf"
      },
      "source": [
        "#IDF-Unigram+Bigram\n",
        "from sklearn.pipeline import Pipeline\n",
        "from sklearn.svm import LinearSVC\n",
        "from sklearn.model_selection import GridSearchCV\n",
        "import numpy as np\n",
        "SVCpipe = Pipeline([('SVC',LinearSVC())])\n",
        "\n",
        "from sklearn.svm import LinearSVC as svm\n",
        "x_train_vec_idf_uni_bi = tf_idf_uni_bi.fit_transform(x_train)\n",
        "x_test_vec_idf_uni_bi = tf_idf_uni_bi.transform(x_test)\n",
        "\n",
        "# Gridsearch to determine the value of C\n",
        "param_grid = {'SVC__C':(1,10)}\n",
        "linearSVC = GridSearchCV(SVCpipe,param_grid,cv=3,return_train_score=True)\n",
        "linearSVC.fit(x_train_vec_idf_uni_bi,y_train)\n",
        "print(linearSVC.best_params_)\n",
        "\n",
        "bestlinearSVC = linearSVC.best_estimator_\n",
        "bestlinearSVC.fit(x_train_vec_idf_uni_bi,y_train)\n",
        "bestlinearSVC.coef_ = bestlinearSVC.named_steps['SVC'].coef_\n",
        "print(bestlinearSVC.score(x_train_vec_idf_uni_bi,y_train))\n",
        "print(bestlinearSVC.score(x_test_vec_idf_uni_bi,y_test))\n",
        "show_most_and_least_informative_features(tf_idf_uni_bi, svm, n=10)"
      ],
      "execution_count": 10,
      "outputs": [
        {
          "output_type": "stream",
          "text": [
            "{'SVC__C': 1}\n",
            "0.8885277777777778\n",
            "0.81625\n"
          ],
          "name": "stdout"
        }
      ]
    },
    {
      "cell_type": "code",
      "metadata": {
        "id": "sss2cTmFNHOK",
        "colab_type": "code",
        "colab": {
          "base_uri": "https://localhost:8080/",
          "height": 70
        },
        "outputId": "d8259885-5686-4fd6-aa12-85add1fe1e0b"
      },
      "source": [
        "#IDF Unigram\n",
        "from sklearn.pipeline import Pipeline\n",
        "from sklearn.svm import LinearSVC\n",
        "from sklearn.model_selection import GridSearchCV\n",
        "import numpy as np\n",
        "SVCpipe = Pipeline([('SVC',LinearSVC())])\n",
        "\n",
        "from sklearn.svm import LinearSVC as svm\n",
        "x_train_vec_idf = tf_idf_unigram.fit_transform(x_train)\n",
        "x_test_vec_idf = tf_idf_unigram.transform(x_test)\n",
        "\n",
        "\n",
        "# Gridsearch to determine the value of C\n",
        "param_grid = {'SVC__C':(0.85,1)}\n",
        "linearSVC = GridSearchCV(SVCpipe,param_grid,cv=3,return_train_score=True)\n",
        "linearSVC.fit(x_train_vec_idf,y_train)\n",
        "print(linearSVC.best_params_)\n",
        "#linearSVC.coef_\n",
        "#linearSVC.intercept_\n",
        "\n",
        "bestlinearSVC = linearSVC.best_estimator_\n",
        "bestlinearSVC.fit(x_train_vec_idf,y_train)\n",
        "bestlinearSVC.coef_ = bestlinearSVC.named_steps['SVC'].coef_\n",
        "\n",
        "print(bestlinearSVC.score(x_train_vec_idf,y_train))\n",
        "print(bestlinearSVC.score(x_test_vec_idf,y_test))\n"
      ],
      "execution_count": 13,
      "outputs": [
        {
          "output_type": "stream",
          "text": [
            "{'SVC__C': 0.85}\n",
            "0.8124444444444444\n",
            "0.800375\n"
          ],
          "name": "stdout"
        }
      ]
    },
    {
      "cell_type": "code",
      "metadata": {
        "id": "zBovyUbzNRM1",
        "colab_type": "code",
        "colab": {
          "base_uri": "https://localhost:8080/",
          "height": 126
        },
        "outputId": "3bf14789-928b-480c-972f-439bbb543521"
      },
      "source": [
        "#TF Unigram+Bigram\n",
        "from sklearn.pipeline import Pipeline\n",
        "from sklearn.svm import LinearSVC\n",
        "from sklearn.model_selection import GridSearchCV\n",
        "import numpy as np\n",
        "SVCpipe = Pipeline([('SVC',LinearSVC())])\n",
        "from sklearn.svm import LinearSVC as svm\n",
        "\n",
        "x_train_vec_tf_uni_bi = tf_uni_bi.fit_transform(x_train)\n",
        "x_test_vec_tf_uni_bi = tf_uni_bi.transform(x_test)\n",
        "\n",
        "# Gridsearch to determine the value of C\n",
        "param_grid = {'SVC__C':(1,10)}\n",
        "linearSVC = GridSearchCV(SVCpipe,param_grid,cv=3,return_train_score=True)\n",
        "linearSVC.fit(x_train_vec_tf_uni_bi,y_train)\n",
        "print(linearSVC.best_params_)\n",
        "#linearSVC.coef_\n",
        "#linearSVC.intercept_\n",
        "\n",
        "bestlinearSVC = linearSVC.best_estimator_\n",
        "bestlinearSVC.fit(x_train_vec_tf_uni_bi,y_train)\n",
        "bestlinearSVC.coef_ = bestlinearSVC.named_steps['SVC'].coef_\n",
        "\n",
        "print(bestlinearSVC.score(x_train_vec_tf_uni_bi,y_train))\n",
        "print(bestlinearSVC.score(x_test_vec_tf_uni_bi,y_test))\n"
      ],
      "execution_count": 12,
      "outputs": [
        {
          "output_type": "stream",
          "text": [
            "/usr/local/lib/python3.6/dist-packages/sklearn/svm/_base.py:947: ConvergenceWarning: Liblinear failed to converge, increase the number of iterations.\n",
            "  \"the number of iterations.\", ConvergenceWarning)\n"
          ],
          "name": "stderr"
        },
        {
          "output_type": "stream",
          "text": [
            "{'SVC__C': 1}\n",
            "0.9066357323232324\n",
            "0.794\n"
          ],
          "name": "stdout"
        }
      ]
    },
    {
      "cell_type": "code",
      "metadata": {
        "id": "zgA_VA13QeZN",
        "colab_type": "code",
        "colab": {}
      },
      "source": [
        ""
      ],
      "execution_count": 0,
      "outputs": []
    }
  ]
}