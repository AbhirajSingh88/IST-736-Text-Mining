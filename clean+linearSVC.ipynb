{
  "nbformat": 4,
  "nbformat_minor": 0,
  "metadata": {
    "colab": {
      "name": "clean+linearSVC.ipynb",
      "provenance": []
    },
    "kernelspec": {
      "name": "python3",
      "display_name": "Python 3"
    },
    "accelerator": "TPU"
  },
  "cells": [
    {
      "cell_type": "code",
      "metadata": {
        "id": "3Fyu5mB22BB5",
        "colab_type": "code",
        "colab": {}
      },
      "source": [
        "import pandas as p\n",
        "import numpy as np\n",
        "import itertools\n",
        "from bs4 import BeautifulSoup\n",
        "from nltk.tokenize import WordPunctTokenizer\n",
        "import re"
      ],
      "execution_count": 0,
      "outputs": []
    },
    {
      "cell_type": "code",
      "metadata": {
        "id": "Eq7364e32dsL",
        "colab_type": "code",
        "colab": {}
      },
      "source": [
        "def getCleanTweet(text):\n",
        "    tok = WordPunctTokenizer()\n",
        "    user_pattern = '@[A-Za-z0-9_]+'\n",
        "    http_pattern = 'https?://[^ ]+'\n",
        "    www_pattern = 'www.[^ ]+'\n",
        "    combined_pattern = '|'.join((user_pattern, http_pattern, www_pattern))\n",
        "    negations_dic = {\"isn't\":\"is not\", \"aren't\":\"are not\", \"wasn't\":\"was not\", \"weren't\":\"were not\",\n",
        "                    \"haven't\":\"have not\",\"hasn't\":\"has not\",\"hadn't\":\"had not\",\"won't\":\"will not\",\n",
        "                    \"wouldn't\":\"would not\", \"don't\":\"do not\", \"doesn't\":\"does not\",\"didn't\":\"did not\",\n",
        "                    \"can't\":\"can not\",\"couldn't\":\"could not\",\"shouldn't\":\"should not\",\"mightn't\":\"might not\",\n",
        "                    \"mustn't\":\"must not\"}\n",
        "    neg_pattern = re.compile('\\b(' + '|'.join(negations_dic.keys()) + ')\\b')\n",
        "    soup = BeautifulSoup(text, 'lxml')\n",
        "    souped = soup.get_text()\n",
        "    try:\n",
        "        bom_removed = souped.decode(\"utf-8-sig\").replace(u\"\\ufffd\", \"?\")\n",
        "    except:\n",
        "        bom_removed = souped\n",
        "    stripped = re.sub(combined_pattern, '', bom_removed)\n",
        "    neg_handled = neg_pattern.sub(lambda x: negations_dic[x.group()], stripped)\n",
        "    letters_only = re.sub(\"[^a-zA-Z]\", \" \", neg_handled).lower()\n",
        "    cleaned = (\" \".join(x for x in tok.tokenize(letters_only) if len(x) > 1)).strip()\n",
        "    cleaned = ''.join(k + k if sum(1 for i in g) > 1 else k for k, g in itertools.groupby(cleaned))\n",
        "    return cleaned"
      ],
      "execution_count": 0,
      "outputs": []
    },
    {
      "cell_type": "code",
      "metadata": {
        "id": "nx1-wFbI2hYt",
        "colab_type": "code",
        "colab": {
          "base_uri": "https://localhost:8080/",
          "height": 266
        },
        "outputId": "39192a51-ff8a-411f-9a5d-0d11411260aa"
      },
      "source": [
        "data = p.read_csv(\"tweet.csv\", encoding=\"latin-1\", names=[\"target\", \"ids\", \"date\", \"flag\", \"user\", \"text\"])\n",
        "data['clean_text'] = [getCleanTweet(text) for text in data['text']]\n",
        "data.dropna(inplace=True)\n",
        "data.reset_index(drop=True,inplace=True)\n",
        "data.info()"
      ],
      "execution_count": 3,
      "outputs": [
        {
          "output_type": "stream",
          "text": [
            "<class 'pandas.core.frame.DataFrame'>\n",
            "RangeIndex: 1600000 entries, 0 to 1599999\n",
            "Data columns (total 7 columns):\n",
            " #   Column      Non-Null Count    Dtype \n",
            "---  ------      --------------    ----- \n",
            " 0   target      1600000 non-null  int64 \n",
            " 1   ids         1600000 non-null  int64 \n",
            " 2   date        1600000 non-null  object\n",
            " 3   flag        1600000 non-null  object\n",
            " 4   user        1600000 non-null  object\n",
            " 5   text        1600000 non-null  object\n",
            " 6   clean_text  1600000 non-null  object\n",
            "dtypes: int64(2), object(5)\n",
            "memory usage: 85.4+ MB\n"
          ],
          "name": "stdout"
        }
      ]
    },
    {
      "cell_type": "code",
      "metadata": {
        "id": "Hk-VY-S92lmj",
        "colab_type": "code",
        "colab": {}
      },
      "source": [
        "x_values = data['clean_text'].values\n",
        "y_values = data['target'].values\n",
        "from sklearn.model_selection import train_test_split\n",
        "x_train,x_test,y_train,y_test = train_test_split(x_values, y_values, test_size=0.01, random_state=0)\n",
        "\n",
        "# Create 4 models - \n",
        "# tf unigram,  \n",
        "# tf idf unigram, \n",
        "# tf unigram+bigram, \n",
        "# tf idf unigram+bigram\n",
        "from sklearn.feature_extraction.text import CountVectorizer\n",
        "from sklearn.feature_extraction.text import TfidfVectorizer\n",
        "\n",
        "tf_unigram = CountVectorizer(encoding='latin-1',binary=True,min_df = 5 )\n",
        "tf_idf_unigram = TfidfVectorizer(encoding='latin-1',use_idf=True,min_df = 5)\n",
        "tf_uni_bi = CountVectorizer(encoding='latin-1',binary=False, ngram_range=(1,2),min_df = 5)\n",
        "tf_idf_uni_bi = TfidfVectorizer(encoding='latin-1',use_idf=True, ngram_range=(1,2),min_df = 5)\n",
        "tf_idf_bi = TfidfVectorizer(encoding='latin-1',use_idf=True, ngram_range=(2,2),min_df = 5)"
      ],
      "execution_count": 0,
      "outputs": []
    },
    {
      "cell_type": "code",
      "metadata": {
        "id": "SJgWaALY2rPO",
        "colab_type": "code",
        "colab": {}
      },
      "source": [
        "def show_most_and_least_informative_features(vectorizer, clf, n=10):\n",
        "    feature_names = vectorizer.get_feature_names()\n",
        "    importances = list(clf.feature_importances_)\n",
        "    coefs_with_fns = sorted(zip(importances, feature_names))\n",
        "    top = zip(coefs_with_fns[:n], coefs_with_fns[-n:])\n",
        "    print(\"Top \", n, \" most and least informative features\")\n",
        "    for (coef_1, fn_1), (coef_2, fn_2) in top:\n",
        "        print(\"\\t%.4f\\t%-15s\\t\\t%.4f\\t%-15s\" % (coef_1, fn_1, coef_2, fn_2))"
      ],
      "execution_count": 0,
      "outputs": []
    },
    {
      "cell_type": "code",
      "metadata": {
        "id": "tDrs9u5t2Wno",
        "colab_type": "code",
        "colab": {
          "base_uri": "https://localhost:8080/",
          "height": 381
        },
        "outputId": "0f427907-aea5-4b5a-edcf-0771fd64ae4e"
      },
      "source": [
        "#tf_unigram\n",
        "from sklearn.pipeline import Pipeline\n",
        "from sklearn.svm import LinearSVC\n",
        "from sklearn.model_selection import GridSearchCV\n",
        "import numpy as np\n",
        "SVCpipe = Pipeline([('SVC',LinearSVC())])\n",
        "\n",
        "from sklearn.svm import LinearSVC as svm\n",
        "x_train_vec_tf = tf_unigram.fit_transform(x_train)\n",
        "x_test_vec_tf = tf_unigram.transform(x_test)\n",
        "\n",
        "# Gridsearch to determine the value of C\n",
        "param_grid = {'SVC__C':(0.85,1)}\n",
        "linearSVC = GridSearchCV(SVCpipe,param_grid,cv=3,return_train_score=True)\n",
        "linearSVC.fit(x_train_vec_tf,y_train)\n",
        "print(linearSVC.best_params_)\n",
        "#linearSVC.coef_\n",
        "#linearSVC.intercept_\n",
        "\n",
        "bestlinearSVC = linearSVC.best_estimator_\n",
        "bestlinearSVC.fit(x_train_vec_tf,y_train)\n",
        "bestlinearSVC.coef_ = bestlinearSVC.named_steps['SVC'].coef_\n",
        "\n",
        "score_tf_unigram = bestlinearSVC.score(x_test_vec_tf,y_test)\n",
        "print(bestlinearSVC.score(x_train_vec_tf,y_train))\n",
        "print(bestlinearSVC.score(x_test_vec_tf,y_test))\n",
        "#show_most_and_least_informative_features(tf_unigram, svm, n=10)\n"
      ],
      "execution_count": 6,
      "outputs": [
        {
          "output_type": "stream",
          "text": [
            "{'SVC__C': 0.85}\n",
            "0.812060606060606\n",
            "0.7993125\n"
          ],
          "name": "stdout"
        },
        {
          "output_type": "error",
          "ename": "AttributeError",
          "evalue": "ignored",
          "traceback": [
            "\u001b[0;31m---------------------------------------------------------------------------\u001b[0m",
            "\u001b[0;31mAttributeError\u001b[0m                            Traceback (most recent call last)",
            "\u001b[0;32m<ipython-input-6-03828e87b81e>\u001b[0m in \u001b[0;36m<module>\u001b[0;34m()\u001b[0m\n\u001b[1;32m     24\u001b[0m \u001b[0mprint\u001b[0m\u001b[0;34m(\u001b[0m\u001b[0mbestlinearSVC\u001b[0m\u001b[0;34m.\u001b[0m\u001b[0mscore\u001b[0m\u001b[0;34m(\u001b[0m\u001b[0mx_train_vec_tf\u001b[0m\u001b[0;34m,\u001b[0m\u001b[0my_train\u001b[0m\u001b[0;34m)\u001b[0m\u001b[0;34m)\u001b[0m\u001b[0;34m\u001b[0m\u001b[0;34m\u001b[0m\u001b[0m\n\u001b[1;32m     25\u001b[0m \u001b[0mprint\u001b[0m\u001b[0;34m(\u001b[0m\u001b[0mbestlinearSVC\u001b[0m\u001b[0;34m.\u001b[0m\u001b[0mscore\u001b[0m\u001b[0;34m(\u001b[0m\u001b[0mx_test_vec_tf\u001b[0m\u001b[0;34m,\u001b[0m\u001b[0my_test\u001b[0m\u001b[0;34m)\u001b[0m\u001b[0;34m)\u001b[0m\u001b[0;34m\u001b[0m\u001b[0;34m\u001b[0m\u001b[0m\n\u001b[0;32m---> 26\u001b[0;31m \u001b[0mshow_most_and_least_informative_features\u001b[0m\u001b[0;34m(\u001b[0m\u001b[0mtf_unigram\u001b[0m\u001b[0;34m,\u001b[0m \u001b[0msvm\u001b[0m\u001b[0;34m,\u001b[0m \u001b[0mn\u001b[0m\u001b[0;34m=\u001b[0m\u001b[0;36m10\u001b[0m\u001b[0;34m)\u001b[0m\u001b[0;34m\u001b[0m\u001b[0;34m\u001b[0m\u001b[0m\n\u001b[0m",
            "\u001b[0;32m<ipython-input-5-474625bc28f6>\u001b[0m in \u001b[0;36mshow_most_and_least_informative_features\u001b[0;34m(vectorizer, clf, n)\u001b[0m\n\u001b[1;32m      1\u001b[0m \u001b[0;32mdef\u001b[0m \u001b[0mshow_most_and_least_informative_features\u001b[0m\u001b[0;34m(\u001b[0m\u001b[0mvectorizer\u001b[0m\u001b[0;34m,\u001b[0m \u001b[0mclf\u001b[0m\u001b[0;34m,\u001b[0m \u001b[0mn\u001b[0m\u001b[0;34m=\u001b[0m\u001b[0;36m10\u001b[0m\u001b[0;34m)\u001b[0m\u001b[0;34m:\u001b[0m\u001b[0;34m\u001b[0m\u001b[0;34m\u001b[0m\u001b[0m\n\u001b[1;32m      2\u001b[0m     \u001b[0mfeature_names\u001b[0m \u001b[0;34m=\u001b[0m \u001b[0mvectorizer\u001b[0m\u001b[0;34m.\u001b[0m\u001b[0mget_feature_names\u001b[0m\u001b[0;34m(\u001b[0m\u001b[0;34m)\u001b[0m\u001b[0;34m\u001b[0m\u001b[0;34m\u001b[0m\u001b[0m\n\u001b[0;32m----> 3\u001b[0;31m     \u001b[0mimportances\u001b[0m \u001b[0;34m=\u001b[0m \u001b[0mlist\u001b[0m\u001b[0;34m(\u001b[0m\u001b[0mclf\u001b[0m\u001b[0;34m.\u001b[0m\u001b[0mfeature_importances_\u001b[0m\u001b[0;34m)\u001b[0m\u001b[0;34m\u001b[0m\u001b[0;34m\u001b[0m\u001b[0m\n\u001b[0m\u001b[1;32m      4\u001b[0m     \u001b[0mcoefs_with_fns\u001b[0m \u001b[0;34m=\u001b[0m \u001b[0msorted\u001b[0m\u001b[0;34m(\u001b[0m\u001b[0mzip\u001b[0m\u001b[0;34m(\u001b[0m\u001b[0mimportances\u001b[0m\u001b[0;34m,\u001b[0m \u001b[0mfeature_names\u001b[0m\u001b[0;34m)\u001b[0m\u001b[0;34m)\u001b[0m\u001b[0;34m\u001b[0m\u001b[0;34m\u001b[0m\u001b[0m\n\u001b[1;32m      5\u001b[0m     \u001b[0mtop\u001b[0m \u001b[0;34m=\u001b[0m \u001b[0mzip\u001b[0m\u001b[0;34m(\u001b[0m\u001b[0mcoefs_with_fns\u001b[0m\u001b[0;34m[\u001b[0m\u001b[0;34m:\u001b[0m\u001b[0mn\u001b[0m\u001b[0;34m]\u001b[0m\u001b[0;34m,\u001b[0m \u001b[0mcoefs_with_fns\u001b[0m\u001b[0;34m[\u001b[0m\u001b[0;34m-\u001b[0m\u001b[0mn\u001b[0m\u001b[0;34m:\u001b[0m\u001b[0;34m]\u001b[0m\u001b[0;34m)\u001b[0m\u001b[0;34m\u001b[0m\u001b[0;34m\u001b[0m\u001b[0m\n",
            "\u001b[0;31mAttributeError\u001b[0m: type object 'LinearSVC' has no attribute 'feature_importances_'"
          ]
        }
      ]
    },
    {
      "cell_type": "code",
      "metadata": {
        "id": "lZoJsT832zNa",
        "colab_type": "code",
        "colab": {
          "base_uri": "https://localhost:8080/",
          "height": 70
        },
        "outputId": "0c97ddc4-e429-4a7f-b7cd-b35bcda0d90b"
      },
      "source": [
        "#IDF-Unigram+Bigram\n",
        "from sklearn.pipeline import Pipeline\n",
        "from sklearn.svm import LinearSVC\n",
        "from sklearn.model_selection import GridSearchCV\n",
        "import numpy as np\n",
        "SVCpipe = Pipeline([('SVC',LinearSVC())])\n",
        "\n",
        "from sklearn.svm import LinearSVC as svm\n",
        "x_train_vec_idf_uni_bi = tf_idf_uni_bi.fit_transform(x_train)\n",
        "x_test_vec_idf_uni_bi = tf_idf_uni_bi.transform(x_test)\n",
        "\n",
        "# Gridsearch to determine the value of C\n",
        "param_grid = {'SVC__C':(1,0.85)}\n",
        "linearSVC = GridSearchCV(SVCpipe,param_grid,cv=3,return_train_score=True)\n",
        "linearSVC.fit(x_train_vec_idf_uni_bi,y_train)\n",
        "print(linearSVC.best_params_)\n",
        "\n",
        "bestlinearSVC = linearSVC.best_estimator_\n",
        "bestlinearSVC.fit(x_train_vec_idf_uni_bi,y_train)\n",
        "bestlinearSVC.coef_ = bestlinearSVC.named_steps['SVC'].coef_\n",
        "\n",
        "score_idf_unibi = bestlinearSVC.score(x_test_vec_idf_uni_bi,y_test)\n",
        "\n",
        "print(bestlinearSVC.score(x_train_vec_idf_uni_bi,y_train))\n",
        "print(bestlinearSVC.score(x_test_vec_idf_uni_bi,y_test))\n",
        "#"
      ],
      "execution_count": 7,
      "outputs": [
        {
          "output_type": "stream",
          "text": [
            "{'SVC__C': 0.85}\n",
            "0.8864646464646465\n",
            "0.818\n"
          ],
          "name": "stdout"
        }
      ]
    },
    {
      "cell_type": "code",
      "metadata": {
        "id": "9tgkStcK20pp",
        "colab_type": "code",
        "colab": {
          "base_uri": "https://localhost:8080/",
          "height": 70
        },
        "outputId": "72e12f58-4724-406f-90f7-14f61fa812e5"
      },
      "source": [
        "#IDF Unigram\n",
        "from sklearn.pipeline import Pipeline\n",
        "from sklearn.svm import LinearSVC\n",
        "from sklearn.model_selection import GridSearchCV\n",
        "import numpy as np\n",
        "SVCpipe = Pipeline([('SVC',LinearSVC())])\n",
        "\n",
        "from sklearn.svm import LinearSVC as svm\n",
        "x_train_vec_idf = tf_idf_unigram.fit_transform(x_train)\n",
        "x_test_vec_idf = tf_idf_unigram.transform(x_test)\n",
        "\n",
        "\n",
        "# Gridsearch to determine the value of C\n",
        "param_grid = {'SVC__C':(0.85,1)}\n",
        "linearSVC = GridSearchCV(SVCpipe,param_grid,cv=3,return_train_score=True)\n",
        "linearSVC.fit(x_train_vec_idf,y_train)\n",
        "print(linearSVC.best_params_)\n",
        "#linearSVC.coef_\n",
        "#linearSVC.intercept_\n",
        "\n",
        "bestlinearSVC = linearSVC.best_estimator_\n",
        "bestlinearSVC.fit(x_train_vec_idf,y_train)\n",
        "bestlinearSVC.coef_ = bestlinearSVC.named_steps['SVC'].coef_\n",
        "\n",
        "score_idf_uni = bestlinearSVC.score(x_test_vec_idf,y_test)\n",
        "\n",
        "print(bestlinearSVC.score(x_train_vec_idf,y_train))\n",
        "print(bestlinearSVC.score(x_test_vec_idf,y_test))\n",
        "\n",
        "#show_most_and_least_informative_features(tf_idf_unigram, svm, n=10)"
      ],
      "execution_count": 8,
      "outputs": [
        {
          "output_type": "stream",
          "text": [
            "{'SVC__C': 0.85}\n",
            "0.8124450757575757\n",
            "0.800375\n"
          ],
          "name": "stdout"
        }
      ]
    },
    {
      "cell_type": "code",
      "metadata": {
        "id": "P3Ki1zdP28UX",
        "colab_type": "code",
        "colab": {
          "base_uri": "https://localhost:8080/",
          "height": 126
        },
        "outputId": "7cc6b98d-00f9-4216-ffb9-070b4fadb332"
      },
      "source": [
        "#TF Unigram+Bigram\n",
        "from sklearn.pipeline import Pipeline\n",
        "from sklearn.svm import LinearSVC\n",
        "from sklearn.model_selection import GridSearchCV\n",
        "import numpy as np\n",
        "SVCpipe = Pipeline([('SVC',LinearSVC())])\n",
        "from sklearn.svm import LinearSVC as svm\n",
        "\n",
        "x_train_vec_tf_uni_bi = tf_uni_bi.fit_transform(x_train)\n",
        "x_test_vec_tf_uni_bi = tf_uni_bi.transform(x_test)\n",
        "\n",
        "# Gridsearch to determine the value of C\n",
        "param_grid = {'SVC__C':(1,0.85)}\n",
        "linearSVC = GridSearchCV(SVCpipe,param_grid,cv=3,return_train_score=True)\n",
        "linearSVC.fit(x_train_vec_tf_uni_bi,y_train)\n",
        "print(linearSVC.best_params_)\n",
        "#linearSVC.coef_\n",
        "#linearSVC.intercept_\n",
        "\n",
        "bestlinearSVC = linearSVC.best_estimator_\n",
        "bestlinearSVC.fit(x_train_vec_tf_uni_bi,y_train)\n",
        "bestlinearSVC.coef_ = bestlinearSVC.named_steps['SVC'].coef_\n",
        "\n",
        "score_tf_unibi = bestlinearSVC.score(x_test_vec_tf_uni_bi,y_test)\n",
        "\n",
        "print(bestlinearSVC.score(x_train_vec_tf_uni_bi,y_train))\n",
        "print(bestlinearSVC.score(x_test_vec_tf_uni_bi,y_test))\n",
        "\n",
        "#show_most_and_least_informative_features(tf_uni_bi, svm, n=10)"
      ],
      "execution_count": 9,
      "outputs": [
        {
          "output_type": "stream",
          "text": [
            "/usr/local/lib/python3.6/dist-packages/sklearn/svm/_base.py:947: ConvergenceWarning: Liblinear failed to converge, increase the number of iterations.\n",
            "  \"the number of iterations.\", ConvergenceWarning)\n"
          ],
          "name": "stderr"
        },
        {
          "output_type": "stream",
          "text": [
            "{'SVC__C': 0.85}\n",
            "0.9055694444444444\n",
            "0.7959375\n"
          ],
          "name": "stdout"
        }
      ]
    },
    {
      "cell_type": "code",
      "metadata": {
        "id": "tRJWCaBcDt6d",
        "colab_type": "code",
        "colab": {
          "base_uri": "https://localhost:8080/",
          "height": 170
        },
        "outputId": "739ee710-a240-4070-9407-51b02c04c812"
      },
      "source": [
        "import pandas as pd\n",
        "scores = [score_tf_unibi, score_idf_uni, score_idf_unibi, score_tf_unigram]\n",
        "names = ['TF+unigram_Bigram', 'TFIDF+Unigram', 'TFIDF+Unigram+Bigram', 'TF+Unigram']\n",
        "lst = pd.DataFrame(zip(names,scores),columns = ['Vectorization','Score'])\n",
        "lst"
      ],
      "execution_count": 16,
      "outputs": [
        {
          "output_type": "execute_result",
          "data": {
            "text/html": [
              "<div>\n",
              "<style scoped>\n",
              "    .dataframe tbody tr th:only-of-type {\n",
              "        vertical-align: middle;\n",
              "    }\n",
              "\n",
              "    .dataframe tbody tr th {\n",
              "        vertical-align: top;\n",
              "    }\n",
              "\n",
              "    .dataframe thead th {\n",
              "        text-align: right;\n",
              "    }\n",
              "</style>\n",
              "<table border=\"1\" class=\"dataframe\">\n",
              "  <thead>\n",
              "    <tr style=\"text-align: right;\">\n",
              "      <th></th>\n",
              "      <th>Vectorization</th>\n",
              "      <th>Score</th>\n",
              "    </tr>\n",
              "  </thead>\n",
              "  <tbody>\n",
              "    <tr>\n",
              "      <th>0</th>\n",
              "      <td>TF+unigram_Bigram</td>\n",
              "      <td>0.795937</td>\n",
              "    </tr>\n",
              "    <tr>\n",
              "      <th>1</th>\n",
              "      <td>TFIDF+Unigram</td>\n",
              "      <td>0.800375</td>\n",
              "    </tr>\n",
              "    <tr>\n",
              "      <th>2</th>\n",
              "      <td>TFIDF+Unigram+Bigram</td>\n",
              "      <td>0.818000</td>\n",
              "    </tr>\n",
              "    <tr>\n",
              "      <th>3</th>\n",
              "      <td>TF+Unigram</td>\n",
              "      <td>0.799312</td>\n",
              "    </tr>\n",
              "  </tbody>\n",
              "</table>\n",
              "</div>"
            ],
            "text/plain": [
              "          Vectorization     Score\n",
              "0     TF+unigram_Bigram  0.795937\n",
              "1         TFIDF+Unigram  0.800375\n",
              "2  TFIDF+Unigram+Bigram  0.818000\n",
              "3            TF+Unigram  0.799312"
            ]
          },
          "metadata": {
            "tags": []
          },
          "execution_count": 16
        }
      ]
    },
    {
      "cell_type": "code",
      "metadata": {
        "id": "1O3nfpSoSKaC",
        "colab_type": "code",
        "colab": {}
      },
      "source": [
        ""
      ],
      "execution_count": 0,
      "outputs": []
    }
  ]
}